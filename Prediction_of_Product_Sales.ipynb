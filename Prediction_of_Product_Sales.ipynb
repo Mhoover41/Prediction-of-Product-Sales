{
  "nbformat": 4,
  "nbformat_minor": 0,
  "metadata": {
    "colab": {
      "provenance": [],
      "toc_visible": true,
      "authorship_tag": "ABX9TyPfjqnMgUh4jKpu5+OrCgE0",
      "include_colab_link": true
    },
    "kernelspec": {
      "name": "python3",
      "display_name": "Python 3"
    },
    "language_info": {
      "name": "python"
    }
  },
  "cells": [
    {
      "cell_type": "markdown",
      "metadata": {
        "id": "view-in-github",
        "colab_type": "text"
      },
      "source": [
        "<a href=\"https://colab.research.google.com/github/Mhoover41/Prediction-of-Product-Sales/blob/main/Prediction_of_Product_Sales.ipynb\" target=\"_parent\"><img src=\"https://colab.research.google.com/assets/colab-badge.svg\" alt=\"Open In Colab\"/></a>"
      ]
    },
    {
      "cell_type": "markdown",
      "source": [
        "#**Prediction of Product Sales**\n"
      ],
      "metadata": {
        "id": "AMTgsztIJqxb"
      }
    },
    {
      "cell_type": "markdown",
      "source": [
        "- **Author:** Melissa Hoover"
      ],
      "metadata": {
        "id": "9oaUACqGJrwp"
      }
    },
    {
      "cell_type": "markdown",
      "source": [
        "## **Project Overview**"
      ],
      "metadata": {
        "id": "2RxGxdamJr9g"
      }
    },
    {
      "cell_type": "markdown",
      "source": [
        "## **Load and Inspect Data**"
      ],
      "metadata": {
        "id": "7yC_VJB6JsKz"
      }
    },
    {
      "cell_type": "markdown",
      "source": [
        "## **Clean Data**"
      ],
      "metadata": {
        "id": "a9YRP1YXJsUE"
      }
    },
    {
      "cell_type": "markdown",
      "source": [
        "## **Exploratory Data Analysis**"
      ],
      "metadata": {
        "id": "jZNgrLlYJscb"
      }
    },
    {
      "cell_type": "markdown",
      "source": [
        "## **Explanatory Data Analysis**\n"
      ],
      "metadata": {
        "id": "rB2QEm3YQw7L"
      }
    }
  ]
}